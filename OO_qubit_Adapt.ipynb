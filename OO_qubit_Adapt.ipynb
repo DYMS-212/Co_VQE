{
 "cells": [
  {
   "cell_type": "code",
   "execution_count": 6,
   "metadata": {},
   "outputs": [],
   "source": [
    "from qiskit_nature.second_q.drivers import PySCFDriver\n",
    "from qiskit_nature.second_q.mappers import JordanWignerMapper, QubitConverter\n",
    "from qiskit_nature.second_q.formats.molecule_info import MoleculeInfo\n",
    "from qiskit_nature.second_q.transformers import ActiveSpaceTransformer,FreezeCoreTransformer\n",
    "import numpy as np\n",
    "from qiskit.algorithms.optimizers import SLSQP\n",
    "from qiskit.algorithms.minimum_eigensolvers import VQE\n",
    "from qiskit.primitives import Estimator\n",
    "from qiskit.algorithms.minimum_eigensolvers import AdaptVQE\n",
    "from qiskit_nature.second_q.algorithms import GroundStateEigensolver\n",
    "from qiskit.circuit.library import EvolvedOperatorAnsatz\n",
    "\n",
    "from qiskit.circuit import QuantumCircuit\n",
    "from copy import  deepcopy\n",
    "from qiskit.circuit import Parameter,ParameterVector\n",
    "import sys\n",
    "sys.path.append('..')\n",
    "from AdaptVQE_.MyQubit_Adapt_VQE import QubitAdapt\n",
    "from AdaptVQE_.My_adapt import MyAdaptVQE\n",
    "import copy\n",
    "\n",
    "#H2 (1,1) spactial orbitals=   2    spin orbitals= 4\n",
    "#H4 (2,2) spactial orbitals=   4    spin orbitals= 8\n",
    "molecule = MoleculeInfo(\n",
    "    [\"H\", \"H\",\"H\",\"H\"], [(0.0, 0.0, 0.0), (0.0, 0.0, 0.9), (0.0, 0.0, 0.9*2), (0.0, 0.0, 0.9*3)],\n",
    "    #[\"H\", \"H\"], [(0.0, 0.0, 0.0), (0.0, 0.0, 0.9),],\n",
    "    multiplicity=1,  # = 2*spin + 1\n",
    "    charge=0,\n",
    ")\n",
    "driver = PySCFDriver().from_molecule(molecule)\n",
    "\n",
    "problem = driver.run()\n",
    "converter = QubitConverter(JordanWignerMapper(), two_qubit_reduction=True)\n",
    "transformer = FreezeCoreTransformer(\n",
    "    freeze_core=True,  # how many electrons we have in our active space\n",
    "    # how many orbitals we have in our active space\n",
    "    remove_orbitals=[-3, -2]\n",
    ")\n",
    "#problem = transformer.transform(problem=problem)"
   ]
  },
  {
   "cell_type": "code",
   "execution_count": 2,
   "metadata": {},
   "outputs": [
    {
     "name": "stderr",
     "output_type": "stream",
     "text": [
      "logger init done!\n",
      "由于算符池较大,进行随机分割! \n",
      "初始化了Paulistring池,完整池80,Propotion=0.25,实际池20\n",
      "初始化了最小算符池!,共计14项算符池成员!\n",
      "你最终选择了qubit_string算符池作为算符最终算符池!\n",
      "开始初始化:挑选第一个算符...\n",
      "初始化结果:第10项被选定,此项梯度最大,为0.2749319853558066\n"
     ]
    }
   ],
   "source": [
    "qubitadapt = QubitAdapt(ES_problem=problem,Completminimum_pool_isused=False)"
   ]
  },
  {
   "cell_type": "code",
   "execution_count": null,
   "metadata": {},
   "outputs": [],
   "source": [
    "qubitadapt.run_slover()"
   ]
  },
  {
   "cell_type": "code",
   "execution_count": null,
   "metadata": {},
   "outputs": [],
   "source": [
    "qubitadapt.adapt_ansatz\n",
    "# qc = QuantumCircuit(qubitadapt.n_qubit)\n",
    "# [qc.append(i,range(qubitadapt.n_qubit)) for i in qubitadapt.adapt_ansatz]\n",
    "# qc.draw()"
   ]
  },
  {
   "cell_type": "code",
   "execution_count": 5,
   "metadata": {},
   "outputs": [
    {
     "data": {
      "text/plain": [
       "[Instruction(name='qubit_string_0', num_qubits=8, num_clbits=0, params=[ParameterVectorElement(term_0[0])]),\n",
       " Instruction(name='qubit_string_1', num_qubits=8, num_clbits=0, params=[ParameterVectorElement(term_1[0])]),\n",
       " Instruction(name='qubit_string_2', num_qubits=8, num_clbits=0, params=[ParameterVectorElement(term_2[0])]),\n",
       " Instruction(name='qubit_string_3', num_qubits=8, num_clbits=0, params=[ParameterVectorElement(term_3[0])]),\n",
       " Instruction(name='qubit_string_4', num_qubits=8, num_clbits=0, params=[ParameterVectorElement(term_4[0])]),\n",
       " Instruction(name='qubit_string_5', num_qubits=8, num_clbits=0, params=[ParameterVectorElement(term_5[0])]),\n",
       " Instruction(name='qubit_string_6', num_qubits=8, num_clbits=0, params=[ParameterVectorElement(term_6[0])]),\n",
       " Instruction(name='qubit_string_7', num_qubits=8, num_clbits=0, params=[ParameterVectorElement(term_7[0])]),\n",
       " Instruction(name='qubit_string_8', num_qubits=8, num_clbits=0, params=[ParameterVectorElement(term_8[0])]),\n",
       " Instruction(name='qubit_string_9', num_qubits=8, num_clbits=0, params=[ParameterVectorElement(term_9[0])]),\n",
       " Instruction(name='qubit_string_10', num_qubits=8, num_clbits=0, params=[ParameterVectorElement(term_10[0])]),\n",
       " Instruction(name='qubit_string_11', num_qubits=8, num_clbits=0, params=[ParameterVectorElement(term_11[0])]),\n",
       " Instruction(name='qubit_string_12', num_qubits=8, num_clbits=0, params=[ParameterVectorElement(term_12[0])]),\n",
       " Instruction(name='qubit_string_13', num_qubits=8, num_clbits=0, params=[ParameterVectorElement(term_13[0])]),\n",
       " Instruction(name='qubit_string_14', num_qubits=8, num_clbits=0, params=[ParameterVectorElement(term_14[0])]),\n",
       " Instruction(name='qubit_string_15', num_qubits=8, num_clbits=0, params=[ParameterVectorElement(term_15[0])]),\n",
       " Instruction(name='qubit_string_16', num_qubits=8, num_clbits=0, params=[ParameterVectorElement(term_16[0])]),\n",
       " Instruction(name='qubit_string_17', num_qubits=8, num_clbits=0, params=[ParameterVectorElement(term_17[0])]),\n",
       " Instruction(name='qubit_string_18', num_qubits=8, num_clbits=0, params=[ParameterVectorElement(klll)]),\n",
       " Instruction(name='qubit_string_19', num_qubits=8, num_clbits=0, params=[ParameterVectorElement(term_19[0])])]"
      ]
     },
     "execution_count": 5,
     "metadata": {},
     "output_type": "execute_result"
    }
   ],
   "source": [
    "qubitadapt.finnal_pool_instruction #列表"
   ]
  },
  {
   "cell_type": "code",
   "execution_count": 4,
   "metadata": {},
   "outputs": [
    {
     "data": {
      "text/plain": [
       "[Instruction(name='qubit_string_0', num_qubits=8, num_clbits=0, params=[ParameterVectorElement(term_0[0])]),\n",
       " Instruction(name='qubit_string_1', num_qubits=8, num_clbits=0, params=[ParameterVectorElement(term_1[0])]),\n",
       " Instruction(name='qubit_string_2', num_qubits=8, num_clbits=0, params=[ParameterVectorElement(term_2[0])]),\n",
       " Instruction(name='qubit_string_3', num_qubits=8, num_clbits=0, params=[ParameterVectorElement(term_3[0])]),\n",
       " Instruction(name='qubit_string_4', num_qubits=8, num_clbits=0, params=[ParameterVectorElement(term_4[0])]),\n",
       " Instruction(name='qubit_string_5', num_qubits=8, num_clbits=0, params=[ParameterVectorElement(term_5[0])]),\n",
       " Instruction(name='qubit_string_6', num_qubits=8, num_clbits=0, params=[ParameterVectorElement(term_6[0])]),\n",
       " Instruction(name='qubit_string_7', num_qubits=8, num_clbits=0, params=[ParameterVectorElement(term_7[0])]),\n",
       " Instruction(name='qubit_string_8', num_qubits=8, num_clbits=0, params=[ParameterVectorElement(term_8[0])]),\n",
       " Instruction(name='qubit_string_9', num_qubits=8, num_clbits=0, params=[ParameterVectorElement(term_9[0])]),\n",
       " Instruction(name='qubit_string_10', num_qubits=8, num_clbits=0, params=[ParameterVectorElement(term_10[0])]),\n",
       " Instruction(name='qubit_string_11', num_qubits=8, num_clbits=0, params=[ParameterVectorElement(term_11[0])]),\n",
       " Instruction(name='qubit_string_12', num_qubits=8, num_clbits=0, params=[ParameterVectorElement(term_12[0])]),\n",
       " Instruction(name='qubit_string_13', num_qubits=8, num_clbits=0, params=[ParameterVectorElement(term_13[0])]),\n",
       " Instruction(name='qubit_string_14', num_qubits=8, num_clbits=0, params=[ParameterVectorElement(term_14[0])]),\n",
       " Instruction(name='qubit_string_15', num_qubits=8, num_clbits=0, params=[ParameterVectorElement(term_15[0])]),\n",
       " Instruction(name='qubit_string_16', num_qubits=8, num_clbits=0, params=[ParameterVectorElement(term_16[0])]),\n",
       " Instruction(name='qubit_string_17', num_qubits=8, num_clbits=0, params=[ParameterVectorElement(term_17[0])]),\n",
       " Instruction(name='sd0208', num_qubits=8, num_clbits=0, params=[ParameterVectorElement(klll)]),\n",
       " Instruction(name='qubit_string_19', num_qubits=8, num_clbits=0, params=[ParameterVectorElement(term_19[0])])]"
      ]
     },
     "execution_count": 4,
     "metadata": {},
     "output_type": "execute_result"
    }
   ],
   "source": [
    "tmp = deepcopy(qubitadapt.finnal_pool_instruction) #拷贝一下 深拷贝 浅拷贝\n",
    "tmp[18].name='sd0208'\n",
    "tmp[18]._params[0]._name = 'klll'\n",
    "tmp"
   ]
  },
  {
   "cell_type": "code",
   "execution_count": null,
   "metadata": {},
   "outputs": [],
   "source": [
    "A\n",
    "B = A\n"
   ]
  }
 ],
 "metadata": {
  "kernelspec": {
   "display_name": "QISKIT_WSL2",
   "language": "python",
   "name": "python3"
  },
  "language_info": {
   "codemirror_mode": {
    "name": "ipython",
    "version": 3
   },
   "file_extension": ".py",
   "mimetype": "text/x-python",
   "name": "python",
   "nbconvert_exporter": "python",
   "pygments_lexer": "ipython3",
   "version": "3.10.6"
  },
  "orig_nbformat": 4,
  "vscode": {
   "interpreter": {
    "hash": "54e28563ef8f1dd6dc056397af37857e89f17a7fb558808f10e4042dc705258e"
   }
  }
 },
 "nbformat": 4,
 "nbformat_minor": 2
}
