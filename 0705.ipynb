{
 "cells": [
  {
   "cell_type": "code",
   "execution_count": 1,
   "metadata": {},
   "outputs": [],
   "source": [
    "import sys\n",
    "sys.path.append('..')\n",
    "import qiskit_nature\n",
    "from BaseFermonicAdapt import BaseFermonicAdaptVQE\n",
    "from qiskit_nature.second_q.drivers import PySCFDriver\n",
    "from qiskit_nature.second_q.mappers import JordanWignerMapper\n",
    "from qiskit_nature.second_q.formats.molecule_info import MoleculeInfo\n",
    "from qiskit_nature.second_q.circuit.library import UCCSD,HartreeFock\n",
    "from qiskit.algorithms.minimum_eigensolvers import VQE\n",
    "dist = 1.5# A\n",
    "qiskit_nature.settings.use_pauli_sum_op = False\n",
    "molecule = MoleculeInfo(\n",
    "    [\"H\", \"H\",\"H\",\"H\"], [(0.0, 0.0, 0.0), (0.0, 0.0, dist), (0.0, 0.0,dist*2), (0.0, 0.0, dist*3)],\n",
    "    #[\"H\", \"H\"], [(0.0, 0.0, 0.0), (0.0, 0.0, dist),],\n",
    "    #['Be','H','H'],[(0.0,0.0,0.0),(0.0,0.0,dist),(0.0,0.0,-dist)],\n",
    "    multiplicity=1,  # = 2*spin + 1\n",
    "    charge=0,\n",
    ")\n",
    "driver = PySCFDriver().from_molecule(molecule)\n",
    "problem = driver.run()\n",
    "mapper = JordanWignerMapper() "
   ]
  },
  {
   "cell_type": "code",
   "execution_count": 2,
   "metadata": {},
   "outputs": [
    {
     "name": "stdout",
     "output_type": "stream",
     "text": [
      "fermonicpool 创建完毕,size=26个\n",
      "现在挑选第一个算符...\n",
      "初始化结果:第19项被选定,此项梯度最大,为0.2814232751400033\n",
      "第一轮的优化结果:optimal_point=[-0.30554329]\n"
     ]
    }
   ],
   "source": [
    "f = BaseFermonicAdaptVQE(ES_problem=problem,max_iter=3,threshold=1e-3)"
   ]
  },
  {
   "cell_type": "code",
   "execution_count": 3,
   "metadata": {},
   "outputs": [
    {
     "name": "stdout",
     "output_type": "stream",
     "text": [
      "------------第1轮--------------\n",
      "已经选好的index是[19]\n"
     ]
    },
    {
     "ename": "TypeError",
     "evalue": "'EvolvedOperatorAnsatz' object is not callable",
     "output_type": "error",
     "traceback": [
      "\u001b[0;31m---------------------------------------------------------------------------\u001b[0m",
      "\u001b[0;31mTypeError\u001b[0m                                 Traceback (most recent call last)",
      "Cell \u001b[0;32mIn[3], line 1\u001b[0m\n\u001b[0;32m----> 1\u001b[0m f\u001b[39m.\u001b[39;49mrun()\n",
      "File \u001b[0;32m/workspaces/Co_VQE/BaseFermonicAdapt.py:153\u001b[0m, in \u001b[0;36mBaseFermonicAdaptVQE.run\u001b[0;34m(self)\u001b[0m\n\u001b[1;32m    151\u001b[0m \u001b[39mself\u001b[39m\u001b[39m.\u001b[39msolver\u001b[39m.\u001b[39mansatz \u001b[39m=\u001b[39m \u001b[39mself\u001b[39m\u001b[39m.\u001b[39madapt_ansatz\n\u001b[1;32m    152\u001b[0m \u001b[39mself\u001b[39m\u001b[39m.\u001b[39msolver\u001b[39m.\u001b[39minitial_point\u001b[39m=\u001b[39m\u001b[39mself\u001b[39m\u001b[39m.\u001b[39moptimal_parameter            \n\u001b[0;32m--> 153\u001b[0m \u001b[39mself\u001b[39;49m\u001b[39m.\u001b[39;49mnext_operator(bound_circuit\u001b[39m=\u001b[39;49m\u001b[39mself\u001b[39;49m\u001b[39m.\u001b[39;49msolver\u001b[39m.\u001b[39;49mansatz\u001b[39m.\u001b[39;49mbind_parameters(\u001b[39mself\u001b[39;49m\u001b[39m.\u001b[39;49moptimal_parameter))\n\u001b[1;32m    154\u001b[0m \u001b[39mself\u001b[39m\u001b[39m.\u001b[39mvqe_result \u001b[39m=\u001b[39m \u001b[39mself\u001b[39m\u001b[39m.\u001b[39msolver\u001b[39m.\u001b[39mcompute_minimum_eigenvalue(\u001b[39mself\u001b[39m\u001b[39m.\u001b[39mhamiltonian)\n\u001b[1;32m    155\u001b[0m \u001b[39mself\u001b[39m\u001b[39m.\u001b[39miteration_index \u001b[39m+\u001b[39m\u001b[39m=\u001b[39m \u001b[39m1\u001b[39m\n",
      "\u001b[0;31mTypeError\u001b[0m: 'EvolvedOperatorAnsatz' object is not callable"
     ]
    }
   ],
   "source": [
    "f.run()"
   ]
  },
  {
   "cell_type": "code",
   "execution_count": null,
   "metadata": {},
   "outputs": [],
   "source": []
  }
 ],
 "metadata": {
  "kernelspec": {
   "display_name": "Python 3 (ipykernel)",
   "language": "python",
   "name": "python3"
  },
  "language_info": {
   "codemirror_mode": {
    "name": "ipython",
    "version": 3
   },
   "file_extension": ".py",
   "mimetype": "text/x-python",
   "name": "python",
   "nbconvert_exporter": "python",
   "pygments_lexer": "ipython3",
   "version": "3.10.8"
  },
  "orig_nbformat": 4
 },
 "nbformat": 4,
 "nbformat_minor": 2
}
