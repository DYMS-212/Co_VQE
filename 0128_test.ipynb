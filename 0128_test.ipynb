{
 "cells": [
  {
   "cell_type": "code",
   "execution_count": 3,
   "metadata": {},
   "outputs": [
    {
     "name": "stdout",
     "output_type": "stream",
     "text": [
      "Geometry: \n",
      " [['H', [0.0, 0.0, 0.0]], ['H', [1.5, 0.0, 0.0]], ['H', [3.0, 0.0, 0.0]], ['H', [4.5, 0.0, 0.0]]]\n",
      "Hartree-Fock energy:  -1.8291374123526860 Ha\n",
      "CCSD energy:  -1.9976240454057863 Ha\n",
      "FCI energy:  -1.9961503255188089 Ha\n"
     ]
    },
    {
     "name": "stderr",
     "output_type": "stream",
     "text": [
      "/opt/anaconda3/envs/Hi_VQE/lib/python3.8/site-packages/pyscf/dft/libxc.py:771: UserWarning: Since PySCF-2.3, B3LYP (and B3P86) are changed to the VWN-RPA variant, corresponding to the original definition by Stephens et al. (issue 1480) and the same as the B3LYP functional in Gaussian. To restore the VWN5 definition, you can put the setting \"B3LYP_WITH_VWN5 = True\" in pyscf_conf.py\n",
      "  warnings.warn('Since PySCF-2.3, B3LYP (and B3P86) are changed to the VWN-RPA variant, '\n"
     ]
    }
   ],
   "source": [
    "from openfermion.chem import MolecularData\n",
    "from openfermionpyscf import run_pyscf\n",
    "from mindquantum.core.gates import X\n",
    "from mindquantum.core.circuit import Circuit\n",
    "from mindquantum.core.operators import Hamiltonian\n",
    "from mindquantum.simulator import Simulator\n",
    "from mindquantum.algorithm.nisq import generate_uccsd\n",
    "import mindspore as ms\n",
    "import sys\n",
    "\n",
    "# 将上级目录添加到 sys.path\n",
    "sys.path.append('..')\n",
    "\n",
    "ms.set_context(mode=ms.PYNATIVE_MODE, device_target=\"CPU\")\n",
    "# 构建分子信息\n",
    "dist = 1.5\n",
    "geometry = [\n",
    "    # [\"Li\", [0.0, 0.0, 0.0 * dist]],\n",
    "    # [\"H\", [0.0, 0.0, 1.0 * dist]],\n",
    "\n",
    "    [\"H\", [0.0, 0.0, 0.0]],\n",
    "    [\"H\", [dist, 0.0, 0.0]],\n",
    "    [\"H\", [dist * 2.0, 0.0, 0.0]],\n",
    "    [\"H\", [dist * 3.0, 0.0, 0.0]],\n",
    "    # [\"H\", [dist * 4.0, 0.0, 0.0]],\n",
    "    # [\"H\", [dist * 5.0, 0.0, 0.0]],\n",
    "]\n",
    "basis = \"sto3g\"\n",
    "spin = 0\n",
    "print(\"Geometry: \\n\", geometry)\n",
    "\n",
    "# 使用Pyscf计算分子的能量 HF, CCSD, FCI\n",
    "molecule_of = MolecularData(\n",
    "    geometry,\n",
    "    basis,\n",
    "    multiplicity=2 * spin + 1\n",
    ")\n",
    "molecule_of = run_pyscf(\n",
    "    molecule_of,\n",
    "    run_scf=1,\n",
    "    run_ccsd=1,\n",
    "    run_fci=1\n",
    ")\n",
    "print(\"Hartree-Fock energy: %20.16f Ha\" % (molecule_of.hf_energy))\n",
    "print(\"CCSD energy: %20.16f Ha\" % (molecule_of.ccsd_energy))\n",
    "print(\"FCI energy: %20.16f Ha\" % (molecule_of.fci_energy))"
   ]
  },
  {
   "cell_type": "code",
   "execution_count": 4,
   "metadata": {},
   "outputs": [],
   "source": [
    "from adapt import adapt_vqe"
   ]
  },
  {
   "cell_type": "code",
   "execution_count": 5,
   "metadata": {},
   "outputs": [
    {
     "name": "stdout",
     "output_type": "stream",
     "text": [
      "hf:-1.829137412352686.\n",
      "ccsd:-1.9976240454057863.\n",
      "fci:-1.9961503255188089.\n",
      "Step   0 energy  -1.8735208475527698\n",
      "Step   1 energy  -1.9079657757287123\n",
      "Step   2 energy  -1.9472692805007243\n",
      "Step   3 energy  -1.9739084777458631\n",
      "Step   4 energy  -1.9764058634359678\n",
      "Step   5 energy  -1.9802044582443186\n",
      "Step   6 energy  -1.9839693175655315\n",
      "Step   7 energy  -1.9917648850271117\n",
      "Step   8 energy  -1.9926188612333180\n",
      "Step   9 energy  -1.9947005184560855\n",
      "Step  10 energy  -1.9947780735047449\n",
      "Step  11 energy  -1.9947780735046980\n",
      "Iterative is convergence!\n",
      "Final energy :  -1.9947780735046980\n",
      "Final error :   0.0013722520141108\n"
     ]
    }
   ],
   "source": [
    "H4_adapt = adapt_vqe(molecule_of, 'feromin')"
   ]
  },
  {
   "cell_type": "code",
   "execution_count": 6,
   "metadata": {},
   "outputs": [
    {
     "name": "stdout",
     "output_type": "stream",
     "text": [
      "hf:-1.829137412352686.\n",
      "ccsd:-1.9976240454057863.\n",
      "fci:-1.9961503255188089.\n",
      "Step   0 energy  -1.8735208475530349\n",
      "Step   1 energy  -1.9079657757287072\n",
      "Step   2 energy  -1.9472692805008147\n",
      "Step   3 energy  -1.9739084777458578\n",
      "Step   4 energy  -1.9764058634364274\n",
      "Step   5 energy  -1.9802044582442793\n",
      "Step   6 energy  -1.9839693175661437\n",
      "Step   7 energy  -1.9917648850275098\n",
      "Step   8 energy  -1.9926188612335001\n",
      "Step   9 energy  -1.9947005184551458\n",
      "Step  10 energy  -1.9947086554434788\n",
      "Step  11 energy  -1.9947129005330919\n",
      "Step  12 energy  -1.9947135080151108\n",
      "Step  13 energy  -1.9947137460144240\n",
      "Step  14 energy  -1.9959448732383529\n",
      "Step  15 energy  -1.9959459753259357\n",
      "Step  16 energy  -1.9959477107815533\n",
      "Step  17 energy  -1.9959489151130889\n",
      "Step  18 energy  -1.9961476294315634\n",
      "Step  19 energy  -1.9961503255184072\n",
      "Step  20 energy  -1.9961503241722414\n",
      "Iterative is convergence!\n",
      "Final energy :  -1.9961503241722414\n",
      "Final error :   0.0000000013465675\n"
     ]
    }
   ],
   "source": [
    "H4_qubit = adapt_vqe(molecule_of, 'qubit')"
   ]
  },
  {
   "cell_type": "code",
   "execution_count": 7,
   "metadata": {},
   "outputs": [
    {
     "name": "stdout",
     "output_type": "stream",
     "text": [
      "hf:-1.829137412352686.\n",
      "ccsd:-1.9976240454057863.\n",
      "fci:-1.9961503255188089.\n",
      "Step   0 energy  -1.8735208475530372\n",
      "Step   1 energy  -1.9079657757287063\n",
      "Step   2 energy  -1.9472692805011160\n",
      "Step   3 energy  -1.9739084777458715\n",
      "Step   4 energy  -1.9764058634364290\n",
      "Step   5 energy  -1.9802044582439784\n",
      "Step   6 energy  -1.9839693175661415\n",
      "Step   7 energy  -1.9917648850275698\n",
      "Step   8 energy  -1.9926188612335571\n",
      "Step   9 energy  -1.9947005184559057\n",
      "Step  10 energy  -1.9947780735046416\n",
      "Step  11 energy  -1.9947780735045670\n",
      "Iterative is convergence!\n",
      "Final energy :  -1.9947780735045670\n",
      "Final error :   0.0013722520142418\n"
     ]
    }
   ],
   "source": [
    "H4_qeb = adapt_vqe(molecule_of, 'qeb')"
   ]
  }
 ],
 "metadata": {
  "kernelspec": {
   "display_name": "Hi_VQE",
   "language": "python",
   "name": "python3"
  },
  "language_info": {
   "codemirror_mode": {
    "name": "ipython",
    "version": 3
   },
   "file_extension": ".py",
   "mimetype": "text/x-python",
   "name": "python",
   "nbconvert_exporter": "python",
   "pygments_lexer": "ipython3",
   "version": "3.8.18"
  }
 },
 "nbformat": 4,
 "nbformat_minor": 2
}
